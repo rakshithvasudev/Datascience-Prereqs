{
 "cells": [
  {
   "cell_type": "code",
   "execution_count": 1,
   "metadata": {},
   "outputs": [
    {
     "name": "stdout",
     "output_type": "stream",
     "text": [
      "          Sales\n",
      "Company        \n",
      "FACEBOOK    100\n",
      "GOOGLE      250\n",
      "MSFT        130\n"
     ]
    }
   ],
   "source": [
    "import numpy as np\n",
    "import pandas as pd\n",
    "\n",
    "data = {'Company':['GOOGLE','GOOGLE','MSFT','MSFT','FACEBOOK','FACEBOOK'],\n",
    "'User':['Sam','Mikie','Amy','Vanessa','Malburg','Richo'],\n",
    "'Sales':[200,300,150,110,100,100]}\n",
    "\n",
    "df = pd.DataFrame(data)\n",
    "# print(df)\n",
    "\n",
    "byComp = df.groupby('Company')\n",
    " \n",
    "print(byComp.mean())"
   ]
  },
  {
   "cell_type": "code",
   "execution_count": null,
   "metadata": {
    "collapsed": true
   },
   "outputs": [],
   "source": []
  }
 ],
 "metadata": {
  "kernelspec": {
   "display_name": "Python 3",
   "language": "python",
   "name": "python3"
  },
  "language_info": {
   "codemirror_mode": {
    "name": "ipython",
    "version": 3
   },
   "file_extension": ".py",
   "mimetype": "text/x-python",
   "name": "python",
   "nbconvert_exporter": "python",
   "pygments_lexer": "ipython3",
   "version": "3.6.1"
  }
 },
 "nbformat": 4,
 "nbformat_minor": 2
}
